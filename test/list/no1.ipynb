{
 "cells": [
  {
   "cell_type": "code",
   "execution_count": 47,
   "metadata": {},
   "outputs": [],
   "source": [
    "import random"
   ]
  },
  {
   "cell_type": "code",
   "execution_count": 4,
   "metadata": {},
   "outputs": [],
   "source": [
    "%load_ext blackcellmagic"
   ]
  },
  {
   "cell_type": "code",
   "execution_count": 48,
   "metadata": {},
   "outputs": [],
   "source": [
    "fruit_list = [\"Apple\",\n",
    "              \"Apricot\",\n",
    "              \"Avocado\",\n",
    "              \"Banana\",\n",
    "              \"Blueberry\",\n",
    "              \"Cherry\",\n",
    "              \"Coconut\",\n",
    "              \"Grape\",\n",
    "              \"Grapefruit\",\n",
    "              \"Fig\",\n",
    "              \"Kiwi\",\n",
    "              \"Lemon\",\n",
    "              \"Lime\",\n",
    "              \"Mandarin\",\n",
    "              \"Mango\",\n",
    "              \"Melon\",\n",
    "              \"Nectarine\",\n",
    "              \"Orange\",\n",
    "              \"Papaya\",\n",
    "              \"Passion fruit\",\n",
    "              \"Peach\",\n",
    "              \"Pear\",\n",
    "              \"Pineapple\",\n",
    "              \"Plum\",\n",
    "              \"Pomegranate\",\n",
    "              \"Raspberry\",\n",
    "              \"Strawberry\",\n",
    "              \"Watermelon\",\n",
    "              \"Blueberry\",\n",
    "              \"Lychee\",\n",
    "              \"Pomelo\",\n",
    "              \"Jackfruit\",\n",
    "              \"Wax Apples\",\n",
    "              \"Lychee\",\n",
    "              \"Rambutan\",\n",
    "              \"Durian\",\n",
    "              \"Asian Pear\",\n",
    "              \"Mangosteen\",\n",
    "              \"Longan\",\n",
    "              \"Guava\",\n",
    "              \"Lotus Fruit\",\n",
    "              \"Sugar Apple\",\n",
    "              \"Chinese Bayberry\",\n",
    "              \"Starfruit\",\n",
    "              \"Pulasan\",\n",
    "              \"Kumquat\",\n",
    "              \"Breadfruit\",\n",
    "              \"Dragon Fruit\",\n",
    "              \"Santol\",\n",
    "              \"Langsat\",\n",
    "              \"Mango\",\n",
    "              \"Snake Fruit\",\n",
    "              \"Japanese Persimmon\",\n",
    "              \"Passion Fruit\",]"
   ]
  },
  {
   "cell_type": "code",
   "execution_count": 33,
   "metadata": {},
   "outputs": [
    {
     "name": "stdout",
     "output_type": "stream",
     "text": [
      "fruits_1 = ['Mandarin', 'Apricot', 'Santol', 'Guava', 'Lotus Fruit']\n",
      "fruits_2 = ['Mandarin', 'Apricot', 'Santol', 'Guava', 'Lotus Fruit']\n"
     ]
    }
   ],
   "source": [
    "fruits_1 = random.choices(fruit_list, k=5)\n",
    "fruits_2 = fruits_1[:]\n",
    "print(f\"fruits_1 = {fruits_1}\")\n",
    "print(f\"fruits_2 = {fruits_2}\")"
   ]
  },
  {
   "cell_type": "code",
   "execution_count": 50,
   "metadata": {},
   "outputs": [
    {
     "name": "stdout",
     "output_type": "stream",
     "text": [
      "choose_list_1 = ['Mandarin', 'Apricot', 'Santol', 'Guava', 'Lotus Fruit']\n",
      "fruits_1 = ['Mandarin', 'Apricot', 'Santol', 'Guava', 'Lotus Fruit']\n",
      "choose_list_1 = ['Mandarin', 'Apricot', 'Santol', 'Lotus Fruit']\n"
     ]
    }
   ],
   "source": [
    "choose_list_1 = fruits_1[:]\n",
    "print(f\"choose_list_1 = {choose_list_1}\")\n",
    "choose_list_1.remove('Guava')\n",
    "print(f\"fruits_1 = {fruits_1}\")\n",
    "print(f\"choose_list_1 = {choose_list_1}\")"
   ]
  },
  {
   "cell_type": "code",
   "execution_count": 51,
   "metadata": {},
   "outputs": [
    {
     "name": "stdout",
     "output_type": "stream",
     "text": [
      "copy1_list = ['Mandarin', 'Apricot', 'Santol', 'Guava', 'Lotus Fruit']\n",
      "copy2_list = ['Mandarin', 'Apricot', 'Santol', 'Guava', 'Lotus Fruit']\n"
     ]
    }
   ],
   "source": [
    "copy1_list = fruits_1.copy()\n",
    "copy2_list = fruits_1[:]\n",
    "print(f\"copy1_list = {copy1_list}\")\n",
    "print(f\"copy2_list = {copy2_list}\")"
   ]
  },
  {
   "cell_type": "code",
   "execution_count": 53,
   "metadata": {},
   "outputs": [
    {
     "name": "stdout",
     "output_type": "stream",
     "text": [
      "choose_list_2 = ['Mandarin', 'Apricot', 'Santol', 'Lotus Fruit']\n",
      "fruits_2 = ['Mandarin', 'Apricot', 'Lotus Fruit']\n",
      "choose_list_2 = ['Mandarin', 'Apricot', 'Lotus Fruit']\n"
     ]
    }
   ],
   "source": [
    "choose_list_2 = fruits_2\n",
    "print(f\"choose_list_2 = {choose_list_2}\")\n",
    "choose_list_2.remove('Santol')\n",
    "print(f\"fruits_2 = {fruits_2}\")\n",
    "print(f\"choose_list_2 = {choose_list_2}\")"
   ]
  },
  {
   "cell_type": "code",
   "execution_count": 58,
   "metadata": {},
   "outputs": [
    {
     "name": "stdout",
     "output_type": "stream",
     "text": [
      "[1, 2, 3, 6, 5, 4, 8, 9, 0, 500]\n"
     ]
    }
   ],
   "source": [
    "number_list = [1, 2, 3, 6, 5, 4, 8, 9, 0]\n",
    "number_list.insert(9, 500)\n",
    "print(number_list)"
   ]
  },
  {
   "cell_type": "code",
   "execution_count": 42,
   "metadata": {},
   "outputs": [
    {
     "name": "stdout",
     "output_type": "stream",
     "text": [
      "[2, 4, 6, 8, 10, 1, 3, 5, 7, 9]\n"
     ]
    }
   ],
   "source": [
    "number_list1 = [2, 4, 6, 8, 10]\n",
    "number_list2 = [1, 3, 5, 7, 9]\n",
    "number_list1.extend(number_list2)\n",
    "print(number_list1)"
   ]
  },
  {
   "cell_type": "code",
   "execution_count": 62,
   "metadata": {},
   "outputs": [
    {
     "name": "stdout",
     "output_type": "stream",
     "text": [
      "10\n"
     ]
    }
   ],
   "source": [
    "len_list = len(number_list1)\n",
    "print(len_list)"
   ]
  },
  {
   "cell_type": "code",
   "execution_count": 63,
   "metadata": {},
   "outputs": [
    {
     "name": "stdout",
     "output_type": "stream",
     "text": [
      "choose_list_2 = ['Mandarin', 'Apricot', 'Lotus Fruit']\n",
      "1\n"
     ]
    }
   ],
   "source": [
    "print(f\"choose_list_2 = {choose_list_2}\")\n",
    "count = choose_list_2.count('Apricot')\n",
    "print(count)"
   ]
  },
  {
   "cell_type": "code",
   "execution_count": 65,
   "metadata": {},
   "outputs": [
    {
     "name": "stdout",
     "output_type": "stream",
     "text": [
      "1\n"
     ]
    }
   ],
   "source": [
    "num = [2, 4, 6, 8, 10, 1, 3, 5, 7, 9]\n",
    "x = num.count(7)\n",
    "print(x)"
   ]
  },
  {
   "cell_type": "code",
   "execution_count": 56,
   "metadata": {},
   "outputs": [
    {
     "name": "stdout",
     "output_type": "stream",
     "text": [
      "0 : Apple\n",
      "1 : Apricot\n",
      "2 : Avocado\n",
      "3 : Banana\n",
      "4 : Blueberry\n",
      "5 : Cherry\n",
      "6 : Coconut\n",
      "7 : Grape\n",
      "8 : Grapefruit\n",
      "9 : Fig\n",
      "10 : Kiwi\n",
      "11 : Lemon\n",
      "12 : Lime\n",
      "13 : Mandarin\n",
      "14 : Mango\n",
      "15 : Melon\n",
      "16 : Nectarine\n",
      "17 : Orange\n",
      "18 : Papaya\n",
      "19 : Passion fruit\n",
      "20 : Peach\n",
      "21 : Pear\n",
      "22 : Pineapple\n",
      "23 : Plum\n",
      "24 : Pomegranate\n",
      "25 : Raspberry\n",
      "26 : Strawberry\n",
      "27 : Watermelon\n",
      "28 : Blueberry\n",
      "29 : Lychee\n",
      "30 : Pomelo\n",
      "31 : Jackfruit\n",
      "32 : Wax Apples\n",
      "33 : Lychee\n",
      "34 : Rambutan\n",
      "35 : Durian\n",
      "36 : Asian Pear\n",
      "37 : Mangosteen\n",
      "38 : Longan\n",
      "39 : Guava\n",
      "40 : Lotus Fruit\n",
      "41 : Sugar Apple\n",
      "42 : Chinese Bayberry\n",
      "43 : Starfruit\n",
      "44 : Pulasan\n",
      "45 : Kumquat\n",
      "46 : Breadfruit\n",
      "47 : Dragon Fruit\n",
      "48 : Santol\n",
      "49 : Langsat\n",
      "50 : Mango\n",
      "51 : Snake Fruit\n",
      "52 : Japanese Persimmon\n",
      "53 : Passion Fruit\n"
     ]
    }
   ],
   "source": [
    "for i in range(len(fruit_list)):\n",
    "    print(f\"{i} : {fruit_list[i]}\")"
   ]
  },
  {
   "cell_type": "code",
   "execution_count": 68,
   "metadata": {},
   "outputs": [
    {
     "name": "stdout",
     "output_type": "stream",
     "text": [
      "num_popular = [['Avocado', 5], ['Blueberry', 1], ['Banana', 5]]\n",
      "['Avocado', 'Banana']\n"
     ]
    }
   ],
   "source": [
    "popular_fruit_list = []\n",
    "i = 0\n",
    "try:\n",
    "    while True:\n",
    "        num = int(input(f\"คนที่ {i+1} เลือกผลไม้ที่ชอบ >> \"))\n",
    "        i += 1\n",
    "        popular_fruit_list.append(fruit_list[num])\n",
    "except:\n",
    "    pass\n",
    "set_popular_fruit_list = set(popular_fruit_list)\n",
    "num_popular = []\n",
    "for j in set_popular_fruit_list:\n",
    "    name_and_count = []\n",
    "    name_and_count.append(j)\n",
    "    name_and_count.append(popular_fruit_list.count(j))\n",
    "    num_popular.append(name_and_count)\n",
    "print(f\"num_popular = {num_popular}\")\n",
    "first = num_popular[0][1]\n",
    "names = []\n",
    "for name, max in num_popular:\n",
    "    if max > first:\n",
    "        names = []\n",
    "        names.append(name)\n",
    "        first = max\n",
    "    elif max == first:\n",
    "        names.append(name)\n",
    "print(names)"
   ]
  },
  {
   "cell_type": "code",
   "execution_count": 70,
   "metadata": {},
   "outputs": [
    {
     "name": "stdout",
     "output_type": "stream",
     "text": [
      "1 A\n",
      "2 B\n",
      "3 C\n",
      "4 D\n",
      "5 E\n",
      "6 F\n"
     ]
    }
   ],
   "source": [
    "list2dimention = [[1, \"A\"], [2, \"B\"], [3, \"C\"], [4, \"D\"], [5, \"E\"], [6, \"F\"]]\n",
    "for x, y in list2dimention:\n",
    "    print(x, y)"
   ]
  }
 ],
 "metadata": {
  "kernelspec": {
   "display_name": "work",
   "language": "python",
   "name": "python3"
  },
  "language_info": {
   "codemirror_mode": {
    "name": "ipython",
    "version": 3
   },
   "file_extension": ".py",
   "mimetype": "text/x-python",
   "name": "python",
   "nbconvert_exporter": "python",
   "pygments_lexer": "ipython3",
   "version": "3.11.4"
  },
  "orig_nbformat": 4
 },
 "nbformat": 4,
 "nbformat_minor": 2
}
