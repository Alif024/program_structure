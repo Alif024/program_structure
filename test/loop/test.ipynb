{
 "cells": [
  {
   "cell_type": "code",
   "execution_count": 1,
   "metadata": {},
   "outputs": [],
   "source": [
    "%load_ext blackcellmagic"
   ]
  },
  {
   "cell_type": "code",
   "execution_count": 14,
   "metadata": {},
   "outputs": [
    {
     "name": "stdout",
     "output_type": "stream",
     "text": [
      "สวัสดีค่ะ ยินดีต้อนรับ\n",
      "ขอให้มีความสุขกับการเรียนค่ะ\n"
     ]
    }
   ],
   "source": [
    "def greeting():\n",
    "    print(\"สวัสดีค่ะ ยินดีต้อนรับ\")\n",
    "    print(\"ขอให้มีความสุขกับการเรียนค่ะ\")\n",
    "greeting()"
   ]
  },
  {
   "cell_type": "code",
   "execution_count": 15,
   "metadata": {},
   "outputs": [
    {
     "name": "stdout",
     "output_type": "stream",
     "text": [
      "num1 =  1\n",
      "num2 =  2\n",
      "Answer num1+num2 =  3\n",
      "num1 =  3\n",
      "num2 =  4\n",
      "Answer num1+num2 =  7\n"
     ]
    }
   ],
   "source": [
    "def plus(num1,num2):\n",
    "    print(\"num1 = \",num1)\n",
    "    print(\"num2 = \",num2)\n",
    "    print(\"Answer num1+num2 = \",num1+num2)\n",
    "plus(1,2)\n",
    "plus(3,4)"
   ]
  },
  {
   "cell_type": "code",
   "execution_count": 21,
   "metadata": {},
   "outputs": [
    {
     "name": "stdout",
     "output_type": "stream",
     "text": [
      "ฉันสัญชาติไทย\n",
      "ฉันสัญชาติอินเดียน\n",
      "ฉันสัญชาติออสเตรเลี่ยน\n"
     ]
    }
   ],
   "source": [
    "def information(nationality=\"ไทย\"):\n",
    "    print(\"ฉันสัญชาติ\" + nationality)\n",
    "\n",
    "\n",
    "information(\"ไทย\")\n",
    "information(\"อินเดียน\")\n",
    "information(\"ออสเตรเลี่ยน\")"
   ]
  },
  {
   "cell_type": "code",
   "execution_count": 20,
   "metadata": {},
   "outputs": [
    {
     "name": "stdout",
     "output_type": "stream",
     "text": [
      "ห้องที่ 1/1\n",
      "นักเรียนคนที่ 1 คือ  นายดำ\n",
      "นักเรียนคนสุดท้าย คือ  นางสาวชมพู\n",
      "ห้องที่ 1/2\n",
      "นักเรียนคนที่ 1 คือ  นายกล้วย\n",
      "นักเรียนคนสุดท้าย คือ  นางสาวลำไย\n"
     ]
    }
   ],
   "source": [
    "def myclass(*std_name):\n",
    "    total_std = len(std_name)\n",
    "    print(\"นักเรียนคนที่ 1 คือ \", std_name[0])\n",
    "    print(\"นักเรียนคนสุดท้าย คือ \", std_name[total_std - 1])\n",
    "\n",
    "\n",
    "print(\"ห้องที่ 1/1\")\n",
    "myclass(\"นายดำ\", \"นายแดง\", \"นางสาวเขียว\", \"นางสาวชมพู\")\n",
    "print(\"ห้องที่ 1/2\")\n",
    "myclass(\"นายกล้วย\", \"นางสาวแดงหวาน\", \"นางสาวเชอรี่\", \"นางสาวองุ่น\", \"นางสาวลำไย\")"
   ]
  }
 ],
 "metadata": {
  "kernelspec": {
   "display_name": "base",
   "language": "python",
   "name": "python3"
  },
  "language_info": {
   "codemirror_mode": {
    "name": "ipython",
    "version": 3
   },
   "file_extension": ".py",
   "mimetype": "text/x-python",
   "name": "python",
   "nbconvert_exporter": "python",
   "pygments_lexer": "ipython3",
   "version": "3.11.4"
  },
  "orig_nbformat": 4
 },
 "nbformat": 4,
 "nbformat_minor": 2
}
