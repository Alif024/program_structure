{
 "cells": [
  {
   "cell_type": "code",
   "execution_count": 1,
   "metadata": {},
   "outputs": [
    {
     "name": "stdout",
     "output_type": "stream",
     "text": [
      "1000\n",
      "500\n",
      "100\n",
      "50\n",
      "20\n",
      "10\n",
      "5\n",
      "2\n",
      "1\n",
      "0.5\n",
      "0.25\n"
     ]
    }
   ],
   "source": [
    "money_type = [1000, 500, 100, 50, 20, 10, 5, 2, 1, 0.5, 0.25]\n",
    "for t in money_type:\n",
    "    print(t)"
   ]
  },
  {
   "cell_type": "code",
   "execution_count": 7,
   "metadata": {},
   "outputs": [
    {
     "name": "stdout",
     "output_type": "stream",
     "text": [
      "3\n",
      "1\n",
      "3.5\n"
     ]
    }
   ],
   "source": [
    "print(7//2)\n",
    "print(7%2)\n",
    "print(7/2)"
   ]
  },
  {
   "cell_type": "code",
   "execution_count": 6,
   "metadata": {},
   "outputs": [
    {
     "name": "stdout",
     "output_type": "stream",
     "text": [
      "False\n"
     ]
    }
   ],
   "source": [
    "print(0 != 0)"
   ]
  },
  {
   "cell_type": "code",
   "execution_count": 9,
   "metadata": {},
   "outputs": [
    {
     "name": "stdout",
     "output_type": "stream",
     "text": [
      "80064.50976875146\n",
      "80064\n",
      "80064.50976875146\n"
     ]
    }
   ],
   "source": [
    "import random\n",
    "money = random.uniform(0, 100000)\n",
    "print(money)\n",
    "print(int(money))\n",
    "print(float(money))"
   ]
  },
  {
   "cell_type": "code",
   "execution_count": 19,
   "metadata": {},
   "outputs": [
    {
     "name": "stdout",
     "output_type": "stream",
     "text": [
      "95\n",
      "96\n"
     ]
    }
   ],
   "source": [
    "print(int((0.955)*100))\n",
    "print(\"{:.0f}\".format((0.955)*100))"
   ]
  },
  {
   "cell_type": "code",
   "execution_count": 14,
   "metadata": {},
   "outputs": [
    {
     "name": "stdout",
     "output_type": "stream",
     "text": [
      "odd\n"
     ]
    }
   ],
   "source": [
    "num = 7\n",
    "if num % 2 == 0:\n",
    "    print('even')\n",
    "elif num % 2 == 1:\n",
    "    print('odd')"
   ]
  },
  {
   "cell_type": "code",
   "execution_count": 24,
   "metadata": {},
   "outputs": [
    {
     "name": "stdout",
     "output_type": "stream",
     "text": [
      "0.543542\n"
     ]
    }
   ],
   "source": [
    "print(\"{:.6f}\".format((0.0165*32 + 0.0082*1 + 0.0033*2 + 0.00033*2) + 8.199999943373035e-05))"
   ]
  },
  {
   "cell_type": "code",
   "execution_count": 5,
   "metadata": {},
   "outputs": [
    {
     "name": "stdout",
     "output_type": "stream",
     "text": [
      "0\n",
      "1\n",
      "2\n",
      "3\n",
      "4\n"
     ]
    }
   ],
   "source": [
    "mask = 29\n",
    "deciMask = mask - 24\n",
    "for i in range(deciMask):\n",
    "    print(i)"
   ]
  },
  {
   "cell_type": "code",
   "execution_count": 2,
   "metadata": {},
   "outputs": [
    {
     "name": "stdout",
     "output_type": "stream",
     "text": [
      "5, 4\n"
     ]
    }
   ],
   "source": [
    "class area:\n",
    "    def __init__(self, width, length=None):\n",
    "        self.width = width\n",
    "        self.length = length\n",
    "    \n",
    "    def __str__(self):\n",
    "        if self.length == None:\n",
    "            return \"{}\".format(self.width)\n",
    "        else:\n",
    "            return \"{}, {}\".format(self.width, self.length)\n",
    "\n",
    "object1 = area(5, 4)\n",
    "print(object1)"
   ]
  },
  {
   "cell_type": "code",
   "execution_count": null,
   "metadata": {},
   "outputs": [],
   "source": [
    "'''3.เอกต้องการรักษาสุขภาพจึงจะกินอาหารไม่เกินวันละ 1,500 กิโลแคลอรี่แต่ต้องกินอาหารให้ครบ 3 มื้อและออกกำลังกายตอนเย็นด้วยการวิ่ง เอกต้องวิ่งทั้งหมดกี่นาทีถ้ามีเงื่อนไขดังนี้ (2 คะแนน)\n",
    "วิ่งบนลู่วิ่งที่ออกแบบมาพิเศษโดย 1 นาทีลดได้ 10 กิโลแคลอรี่\n",
    "ถ้าวันไหนกินอาหารไม่เกิน 1,500 กิโลแคลอรี่จะวิ่งเพียง 15 นาที\n",
    "ถ้าวันไหนกินเกิน 1,500 กิโลแคลอรี่แต่ไม่เกิน 1,800 กิโลแคลอรี่ ต้องวิ่งจนกว่าจะเหลือ 1,500 กิโลแคลอรี่โดยต้องวิ่งไม่ต่ำกว่า 15 นาที\n",
    "ถ้าเกินกว่า 1,800 กิโลแคลอรี่จะวิ่่งเป็นเวลา 60 นาที \n",
    "ดังตัวอย่างต่อไปนี้ '''"
   ]
  },
  {
   "cell_type": "code",
   "execution_count": 1,
   "metadata": {},
   "outputs": [
    {
     "name": "stdout",
     "output_type": "stream",
     "text": [
      "3\n"
     ]
    }
   ],
   "source": [
    "a = 2\n",
    "b = 5\n",
    "b -= a\n",
    "print(b)"
   ]
  },
  {
   "cell_type": "code",
   "execution_count": 2,
   "metadata": {},
   "outputs": [
    {
     "name": "stdout",
     "output_type": "stream",
     "text": [
      "ภาษีที่ต้องจ่าย : 30,000.0 บาท\n"
     ]
    }
   ],
   "source": [
    "def taxCompare(netSalary):\n",
    "    if netSalary >= 0 and netSalary <= 150000:\n",
    "        tax = 0\n",
    "    elif netSalary >= 150001 and netSalary <= 300000:\n",
    "        tax = (netSalary - 150000)*0.05\n",
    "    elif netSalary >= 300001 and netSalary <= 500000:\n",
    "        tax = ((netSalary - 300000)*0.1) + 7500*2\n",
    "    elif netSalary >= 500001 and netSalary <= 750000:\n",
    "        tax = ((netSalary - 500000)*0.15) + 27500*2\n",
    "    elif netSalary >= 750001 and netSalary <= 1000000:\n",
    "        tax = ((netSalary - 750000)*0.2) + 65000*2\n",
    "    elif netSalary >= 1000001 and netSalary <= 2000000:\n",
    "        tax = ((netSalary - 1000000)*0.25) + 115000*2\n",
    "    elif netSalary >= 2000001 and netSalary <= 4000000:\n",
    "        tax = ((netSalary - 2000000)*0.3) + 365000*2\n",
    "    elif netSalary >= 4000001:\n",
    "        tax = ((netSalary - 4000000)*0.35) + 1265000*2\n",
    "    return tax\n",
    "\n",
    "\n",
    "salary = float(input(\"ใส่เงินเดือน >> \"))\n",
    "netSalary = salary * 12\n",
    "expenses = 0.4 * netSalary\n",
    "if expenses <= 60000:\n",
    "    netSalary -= expenses\n",
    "else:\n",
    "    netSalary -= 60000\n",
    "netSalary -= 30000\n",
    "print(\"ภาษีที่ต้องจ่าย : {:,} บาท\".format(taxCompare(netSalary)))\n"
   ]
  },
  {
   "cell_type": "code",
   "execution_count": 3,
   "metadata": {},
   "outputs": [
    {
     "name": "stdout",
     "output_type": "stream",
     "text": [
      "0\n"
     ]
    }
   ],
   "source": [
    "a = [2,2,2,2]\n",
    "print(a.count(1))"
   ]
  },
  {
   "cell_type": "code",
   "execution_count": null,
   "metadata": {},
   "outputs": [],
   "source": []
  }
 ],
 "metadata": {
  "kernelspec": {
   "display_name": "base",
   "language": "python",
   "name": "python3"
  },
  "language_info": {
   "codemirror_mode": {
    "name": "ipython",
    "version": 3
   },
   "file_extension": ".py",
   "mimetype": "text/x-python",
   "name": "python",
   "nbconvert_exporter": "python",
   "pygments_lexer": "ipython3",
   "version": "3.9.16"
  },
  "orig_nbformat": 4
 },
 "nbformat": 4,
 "nbformat_minor": 2
}
