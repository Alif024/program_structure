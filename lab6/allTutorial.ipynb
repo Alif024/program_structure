{
 "cells": [
  {
   "attachments": {},
   "cell_type": "markdown",
   "metadata": {},
   "source": [
    "<h2>เลือกบทเรียน</h2>\n",
    "\n",
    "[- การใช้คำสั่ง print](#print)<br>\n",
    "[- การใช้คำสั่งเงื่อนไข if...else](#if)"
   ]
  },
  {
   "attachments": {},
   "cell_type": "markdown",
   "metadata": {},
   "source": [
    "<a id='print'></a><h3>การใช้คำสั่ง print ในชีทข้อ 1.1 ถึง 1.9</h3> <br>\n",
    "วิธีการใช้คือ :<br>\n",
    "print() <br>\n",
    "ค่าที่จะให้แสดงออกมา ใส่เข้าไปในวงเล็บ\n",
    "\n",
    "การใช้ format ในคำสั่ง print ข้อ 1.9 [คลิก](#format)<br>"
   ]
  },
  {
   "cell_type": "code",
   "execution_count": 31,
   "metadata": {
    "tags": []
   },
   "outputs": [
    {
     "name": "stdout",
     "output_type": "stream",
     "text": [
      "Hello python\n"
     ]
    }
   ],
   "source": [
    "# 1.1\n",
    "print('Hello python')       # แสดงข้อความ"
   ]
  },
  {
   "cell_type": "code",
   "execution_count": 11,
   "metadata": {},
   "outputs": [
    {
     "name": "stdout",
     "output_type": "stream",
     "text": [
      "Alif Waehayee\n"
     ]
    }
   ],
   "source": [
    "# 1.2\n",
    "print('Alif Waehayee')      # แสดงข้อความ"
   ]
  },
  {
   "cell_type": "code",
   "execution_count": 12,
   "metadata": {},
   "outputs": [
    {
     "name": "stdout",
     "output_type": "stream",
     "text": [
      "30\n",
      "30\n"
     ]
    }
   ],
   "source": [
    "# 1.3 \n",
    "print(25+5)         # แสดง 30 ออกมา \n",
    "x = 25+5            # ทำ 25+5 เก็บใน x\n",
    "print(x)            # แสดงใน x คือ 30 ออกมา"
   ]
  },
  {
   "cell_type": "code",
   "execution_count": 13,
   "metadata": {},
   "outputs": [
    {
     "name": "stdout",
     "output_type": "stream",
     "text": [
      "34\n"
     ]
    }
   ],
   "source": [
    "# 1.4 \n",
    "num = '3'+'4'       # นำ 3(เป็นข้อความ) ไปต่อกับ 4(เป็นข้อความ) แล้วเก็บใน num \n",
    "print(num)          # แสดงค่าใน num คือ 34 ออกมา"
   ]
  },
  {
   "cell_type": "code",
   "execution_count": 14,
   "metadata": {},
   "outputs": [
    {
     "name": "stdout",
     "output_type": "stream",
     "text": [
      "HiHiHi\n"
     ]
    }
   ],
   "source": [
    "# 1.5\n",
    "hello = \"Hi\"        # เก็บข้อความ Hi ใน hello\n",
    "print(hello*3)      # นำค่าใน hello แสดงออกมา 3 ครั้ง"
   ]
  },
  {
   "cell_type": "code",
   "execution_count": 15,
   "metadata": {},
   "outputs": [
    {
     "name": "stdout",
     "output_type": "stream",
     "text": [
      "boxboxboxboxbox\n"
     ]
    }
   ],
   "source": [
    "# 1.6\n",
    "dog = 'box'         # เก็บข้อความ box ใน dog\n",
    "print(dog*5)        # นำค่าใน dog แสดงออกมา 5 ครั้ง"
   ]
  },
  {
   "cell_type": "code",
   "execution_count": 17,
   "metadata": {},
   "outputs": [
    {
     "name": "stdout",
     "output_type": "stream",
     "text": [
      "<class 'float'>\n",
      "<class 'int'>\n",
      "<class 'str'>\n"
     ]
    }
   ],
   "source": [
    "# 1.7\n",
    "a,b,c = 1.5,5,'Superman'        # เก็บจำนวนทศนิยมที่มีค่าคือ 1.5 ใน a, เก็บจำนวนเต็มที่มีค่าคือ 5 ใน b, เก็บข้อความคำว่า Superman ใน c\n",
    "print(type(a))                  # แสดงประเภทของ a คือ float (จำนวนทศนิยม)\n",
    "print(type(b))                  # แสดงประเภทของ b คือ int (จำนวนเต็ม)             \n",
    "print(type(c))                  # แสดงประเภทของ a คือ str (ข้อความ)"
   ]
  },
  {
   "cell_type": "code",
   "execution_count": 19,
   "metadata": {},
   "outputs": [
    {
     "name": "stdout",
     "output_type": "stream",
     "text": [
      "<class 'str'>\n",
      "1\n"
     ]
    }
   ],
   "source": [
    "# 1.8 \n",
    "a = \"1.265\"         # เก็บข้อความ 1.265 ใน a\n",
    "print(type(a))      # แสดงประเถทของ a คือ str (ข้อความ)\n",
    "a = int(1.265)      # เก็บจำนวนเต็มที่มีค่า 1.265 ใน a \n",
    "print(a)            # แสดงค่าใน a คือ 1"
   ]
  },
  {
   "attachments": {},
   "cell_type": "markdown",
   "metadata": {},
   "source": [
    "<a id='format'></a>\n",
    "<h4>การใช้ format มีวิธีการดังนี้ </h4>\n",
    "print(\"{}\".format())<br>\n",
    "\n",
    "ใน {} ปีกกา สามารถใช้คำสั่งได้ดังนี้\n",
    "- :\n",
    "- :.2f\n",
    "- :,\n",
    "\n",
    "ใน () วงเล็บ จะเป็นการนำค่าไปแสดงในปีกกาอีกทีนึง ตามลำดับ"
   ]
  },
  {
   "cell_type": "code",
   "execution_count": 21,
   "metadata": {},
   "outputs": [
    {
     "name": "stdout",
     "output_type": "stream",
     "text": [
      "3 3.5 PCC\n",
      "PCC 3.5 3\n"
     ]
    }
   ],
   "source": [
    "a = 3                                       # เก็บจำนวนเต็มที่มีค่า 3 ใน a\n",
    "b = 3.5                                     # เก็บจำนวนทศนิยมที่มีค่า 3.5 ใน b\n",
    "c = 'PCC'                                   # เก็บข้อความ PCC ใน c\n",
    "\n",
    "print(\"{} {} {}\".format(a, b, c))           \n",
    "# ปีกกาตัวที่ 1 จะดึงค่าจากตัวแรกของ format คือ a, ปีกกาตัวที่ 2 จะดึงค่าจากตัวที่ 2 ของ format คือ b, ปีกกาตัวที่ 3 จะดึงค่าจากตัวที่ 3 ของ format คือ c\n",
    "\n",
    "print(\"{2} {1} {0}\".format(a, b, c))        \n",
    "# ปีกกาตัวที่ 1 จะดึงค่าจากตัวที่ 3 ของ format คือ c, ปีกกาตัวที่ 2 จะดึงค่าจากตัวที่ 2 ของ format คือ b, ปีกกาตัวที่ 3 จะดึงค่าจากตัวที่ 1 ของ format คือ a"
   ]
  },
  {
   "attachments": {},
   "cell_type": "markdown",
   "metadata": {},
   "source": [
    "<a id='if'></a><h3>การใช้คำสั่งเงื่อนไขมีวิธีเขื่อนดังนี้</h3>\n",
    "- มีเงื่อนไขเดียว [คลิก](#if1) วิธีใช้คือ <br>\n",
    "if (เงื่อนไข):              \n",
    "&nbsp;&nbsp;&nbsp;&nbsp;คำสั่งที่ทำเมื่อเงื่อนไขเป็นจริง<br>\n",
    "\n",
    "- มี 2 เงื่อนไข [คลิก](#if2) วิธีใช้คือ<br>\n",
    "if (เงื่อนไข):<br>\n",
    "&nbsp;&nbsp;&nbsp;&nbsp;คำสั่งที่ทำเมื่อเงื่อนไขเป็นจริง<br>\n",
    "else:<br>\n",
    "&nbsp;&nbsp;&nbsp;&nbsp;คำสั่งที่ทำเมื่อเงื่อนไขแรกเป็นเท็จ<br>\n",
    "\n",
    "- มี 3 เงื่อนไขขึ้นไป [คลิก](#if3) วิธีใช้คือ<br>\n",
    "if (เงื่อนไขที่ 1):<br>\n",
    "&nbsp;&nbsp;&nbsp;&nbsp;คำสั่งที่ทำเมื่อเงื่อนไขที่ 1 เป็นจริง<br>\n",
    "elif (เงื่อนไขที่ 2):<br>\n",
    "&nbsp;&nbsp;&nbsp;&nbsp;คำสั่งที่ทำเมื่อเงื่อนไขที่ 2 เป็นจริง และเงื่อนไขก่อนหน้าต้องเป็นเท็จทั้งหมด<br>\n",
    "elif (เงื่อนไขที่ 3):<br>\n",
    "&nbsp;&nbsp;&nbsp;&nbsp;คำสั่งที่ทำเมื่อเงื่อนไขที่ 3 เป็นจริง และเงื่อนไขก่อนหน้าต้องเป็นเท็จทั้งหมด<br>\n",
    "...<br>\n",
    "...<br>\n",
    "...<br>\n",
    "else:<br>\n",
    "&nbsp;&nbsp;&nbsp;&nbsp;คำสั่งที่ทำเมื่อเงื่อนไขทั้งหมดเป็นเท็จ<br>"
   ]
  },
  {
   "attachments": {},
   "cell_type": "markdown",
   "metadata": {},
   "source": [
    "<a id='if1'></a><h4>เงื่อนไขเดียว</h4>วิธีใช้คือ <br>\n",
    "if (เงื่อนไข):<br>\n",
    "&nbsp;&nbsp;&nbsp;&nbsp;คำสั่งที่ทำเมื่อเงื่อนไขเป็นจริง<br>"
   ]
  },
  {
   "cell_type": "code",
   "execution_count": 29,
   "metadata": {},
   "outputs": [
    {
     "name": "stdout",
     "output_type": "stream",
     "text": [
      "ค่าใน num น้อยกว่า 5\n"
     ]
    }
   ],
   "source": [
    "num = 4                         # เก็บจำนวนที่มีค่า 3 ใน num\n",
    "if num < 5:                     # num น้อยกว่า 5 ไหม\n",
    "    print('ค่าใน num น้อยกว่า 5')  # แสดงข้อความว่า ค่าใน num น้อยกว่า 5 เพราะ num น้อยกว่า 5 เป็นจริง"
   ]
  },
  {
   "cell_type": "code",
   "execution_count": 23,
   "metadata": {},
   "outputs": [],
   "source": [
    "num = 6                         # เก็บจำนวนที่มีค่า 6 ใน num\n",
    "if num < 5:                     # num น้อยกว่า 5 ไหม\n",
    "    print('ค่าใน num น้อยกว่า 5')  # ไม่ถูกแสดงออกมา เพราะ num น้อยกว่า 5 เป็นเท็จ"
   ]
  },
  {
   "cell_type": "code",
   "execution_count": 25,
   "metadata": {},
   "outputs": [
    {
     "name": "stdout",
     "output_type": "stream",
     "text": [
      "Hi\n"
     ]
    }
   ],
   "source": [
    "text = \"Hello\"                  # เก็บข้อความ Hello ใน text\n",
    "if text == \"Hello\":             # ค่าใน text เหมือนกับ Hello ไหม \n",
    "    print('Hi')                 # แสดงข้อความว่า Hi เพราะ ค่าใน text คือ Hello เหมือนกับ Hello ในเงื่อนไข"
   ]
  },
  {
   "cell_type": "code",
   "execution_count": 30,
   "metadata": {},
   "outputs": [],
   "source": [
    "text = \"Hello\"                  # เก็บข้อความ Hello ใน text\n",
    "if text == \"hello\":             # ค่าใน text เหมือนกับ hello ไหม \n",
    "    print('Hi')                 # ไม่ถูกแสดงออกมา เพราะ text คือ Hello ไม่เหมือนกับ hello ในเงื่อนไข"
   ]
  }
 ],
 "metadata": {
  "kernelspec": {
   "display_name": "work",
   "language": "python",
   "name": "python3"
  },
  "language_info": {
   "codemirror_mode": {
    "name": "ipython",
    "version": 3
   },
   "file_extension": ".py",
   "mimetype": "text/x-python",
   "name": "python",
   "nbconvert_exporter": "python",
   "pygments_lexer": "ipython3",
   "version": "3.9.16"
  },
  "orig_nbformat": 4
 },
 "nbformat": 4,
 "nbformat_minor": 2
}
