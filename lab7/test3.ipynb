{
 "cells": [
  {
   "cell_type": "code",
   "execution_count": null,
   "metadata": {},
   "outputs": [],
   "source": [
    "line = int(input(\"\"))\n",
    "for num_line in range(1, line+1):\n",
    "    text_font = ''\n",
    "    text_mid = ''\n",
    "    text_behind = ''\n",
    "    for i in range(num_line):\n",
    "        if 2**i < 2**(num_line-1):\n",
    "            text_font += str(2**i) + ','\n",
    "            text_behind += ',' + str(2**i) \n",
    "        elif 2**i < 2**(num_line):\n",
    "            text_mid = str(2**i) + ','\n",
    "    text_behind = text_behind[::-1] \n",
    "    all_text = text_font + text_mid + text_behind\n",
    "    print(all_text.center(51))"
   ]
  },
  {
   "cell_type": "code",
   "execution_count": null,
   "metadata": {},
   "outputs": [],
   "source": [
    "line = int(input(\"\"))\n",
    "for num_line in range(1, line+1):\n",
    "    text_font = ''\n",
    "    text_mid = ''\n",
    "    text_behind = ''\n",
    "    for i in range(num_line):\n",
    "        if i == 0:\n",
    "            text_font += str(2**i)\n",
    "            text_behind += '' + str(2**i)\n",
    "        elif 2**i < 2**(num_line-1):\n",
    "            text_font += str(2**i) + ','\n",
    "            text_behind += '' + str(2**i) \n",
    "        elif 2**i < 2**(num_line):\n",
    "            text_mid = str(2**i) + ','\n",
    "    text_behind = text_behind[::-1] \n",
    "    all_text = text_font + text_mid + text_behind\n",
    "    print(all_text.center(51))"
   ]
  },
  {
   "cell_type": "code",
   "execution_count": null,
   "metadata": {},
   "outputs": [],
   "source": [
    "line = int(input(\"\"))\n",
    "for num_line in range(1, line+1):\n",
    "    text_font = ''\n",
    "    text_mid = ''\n",
    "    text_behind = []\n",
    "    for i in range(num_line):\n",
    "        if 2**i < 2**(num_line-1):\n",
    "            text_font += str(2**i) + '    '\n",
    "            text_behind.append(str(2**i))\n",
    "        elif 2**i < 2**(num_line):\n",
    "            text_mid = str(2**i) + '    '\n",
    "    for j in text_behind[-1::-1]:\n",
    "        text_mid += j + '    '\n",
    "    all_text = text_font + text_mid \n",
    "    print(all_text.center(150))"
   ]
  },
  {
   "cell_type": "code",
   "execution_count": null,
   "metadata": {},
   "outputs": [],
   "source": [
    "a = ['1','2','3']\n",
    "for i in a[-1::-1]:\n",
    "    print(i)\n"
   ]
  },
  {
   "cell_type": "code",
   "execution_count": null,
   "metadata": {},
   "outputs": [],
   "source": [
    "line = int(input(\"\"))\n",
    "x = \"____\"\n",
    "for num_line in range(1, line+1):\n",
    "    text_font = ''\n",
    "    text_mid = ''\n",
    "    text_behind = []\n",
    "    for i in range(num_line):\n",
    "        if num_line == 1:\n",
    "            text_font += str(2**i)\n",
    "        elif 2**i < 2**(num_line-1):\n",
    "            text_font += str(2**i) + f'{x}'\n",
    "            text_behind.append(str(2**i))\n",
    "        elif 2**i < 2**(num_line):\n",
    "            text_mid = str(2**i) + f'{x}'\n",
    "    for j in text_behind[-1::-1]:\n",
    "        if j == text_behind[0]:\n",
    "            text_mid += j\n",
    "        else:\n",
    "            text_mid += j + f'{x}'\n",
    "    all_text = text_font + text_mid \n",
    "    print(all_text.center(150))"
   ]
  },
  {
   "cell_type": "code",
   "execution_count": null,
   "metadata": {},
   "outputs": [],
   "source": [
    "a = [i for i in range(0, 7)]\n",
    "for i in range(len(a)):\n",
    "    num = a[i]\n",
    "    print(num, end=\"\\t\")\n",
    "print('\\n')\n",
    "print(num, end=\"\\t\")"
   ]
  },
  {
   "cell_type": "code",
   "execution_count": null,
   "metadata": {},
   "outputs": [],
   "source": [
    "a = [i for i in range(1, 7)]\n",
    "b = [i for i in range(1, 5)]\n",
    "c = [i for i in range(1, 3)]\n",
    "text_a = ''\n",
    "text_b = ''\n",
    "for i in a:\n",
    "    if i == a[-1]:\n",
    "        text_a += str(i)\n",
    "    else:\n",
    "        text_a += str(i) + '\\t'\n",
    "for j in b:\n",
    "    if j == b[-1]:\n",
    "        text_b += str(j)\n",
    "    else:\n",
    "        text_b += str(j) + '\\t'\n",
    "print(end=\"\")\n",
    "print(\"\\t\"*7, text_b)\n",
    "print(\"\\t\"*6, text_a)"
   ]
  },
  {
   "cell_type": "code",
   "execution_count": 23,
   "metadata": {},
   "outputs": [
    {
     "name": "stdout",
     "output_type": "stream",
     "text": [
      "\t 1\t2\t4\t8\t16\n"
     ]
    }
   ],
   "source": [
    "line = 5\n",
    "time_tab = line - 1\n",
    "text_num = ''\n",
    "for i in range(line):\n",
    "    if i == line-1:\n",
    "        num = 2**i\n",
    "        text_num += str(num)\n",
    "    else:\n",
    "        num = 2**i\n",
    "        text_num += str(num) + '\\t'\n",
    "print('\\t'*(line-time_tab),text_num)"
   ]
  },
  {
   "cell_type": "code",
   "execution_count": 27,
   "metadata": {},
   "outputs": [
    {
     "name": "stdout",
     "output_type": "stream",
     "text": [
      "1\n",
      "2\n",
      "3\n",
      "4\n",
      "5\n"
     ]
    }
   ],
   "source": [
    "for j in range(1, 5+1):\n",
    "    print(j)"
   ]
  },
  {
   "cell_type": "code",
   "execution_count": 38,
   "metadata": {},
   "outputs": [
    {
     "name": "stdout",
     "output_type": "stream",
     "text": [
      "7\n",
      "\t\t\t\t\t\t\t 1\t \n",
      "\t\t\t\t\t\t 1\t 2\t \n",
      "\t\t\t\t\t 1\t 2\t 4\t \n",
      "\t\t\t\t 1\t 2\t 4\t 8\t \n",
      "\t\t\t 1\t 2\t 4\t 8\t 16\t \n",
      "\t\t 1\t 2\t 4\t 8\t 16\t 32\t \n",
      "\t 1\t 2\t 4\t 8\t 16\t 32\t 64\n"
     ]
    }
   ],
   "source": [
    "line = 7\n",
    "print(line)\n",
    "time_tab = line + 1\n",
    "for j in range(1, line+1):\n",
    "    text_num = str()\n",
    "    for i in range(j):\n",
    "        if i == line-1:\n",
    "            num = 2**i\n",
    "            text_num += str(num)\n",
    "        else:\n",
    "            num = 2**i\n",
    "            text_num += str(num) + '\\t '\n",
    "    time_tab = time_tab-1\n",
    "    print('\\t'*(time_tab),text_num)"
   ]
  },
  {
   "cell_type": "code",
   "execution_count": 51,
   "metadata": {},
   "outputs": [
    {
     "name": "stdout",
     "output_type": "stream",
     "text": [
      "7\n",
      "\t\t\t\t\t\t\t 1\t \n",
      "\t\t\t\t\t\t 1\t 2\t 1\t \n",
      "\t\t\t\t\t 1\t 2\t 4\t 2\t 1\t \n",
      "\t\t\t\t 1\t 2\t 4\t 8\t 4\t 2\t 1\t \n",
      "\t\t\t 1\t 2\t 4\t 8\t 16\t 8\t 4\t 2\t 1\t \n",
      "\t\t 1\t 2\t 4\t 8\t 16\t 32\t 16\t 8\t 4\t 2\t 1\t \n",
      "\t 1\t 2\t 4\t 8\t 16\t 32\t 64\t 32\t 16\t 8\t 4\t 2\t 1\t \n"
     ]
    }
   ],
   "source": [
    "line = int(input(\"Enter number of lines : \"))\n",
    "time_tab = line + 1\n",
    "for j in range(1, line+1):\n",
    "    list_behide_num = []\n",
    "    behide_num = ''\n",
    "    text_num = ''\n",
    "    for i in range(j):\n",
    "        if i == line-1:\n",
    "            num = 2**i\n",
    "            list_behide_num.append(num)\n",
    "            text_num += str(num) + '\\t '\n",
    "        else:\n",
    "            num = 2**i\n",
    "            list_behide_num.append(num)\n",
    "            text_num += str(num) + '\\t '\n",
    "    for k in list_behide_num[-1::-1]:\n",
    "        if k < list_behide_num[-1]:\n",
    "            text_num += str(k) + '\\t '\n",
    "    time_tab = time_tab-1\n",
    "    print('\\t'*(time_tab),text_num)"
   ]
  }
 ],
 "metadata": {
  "kernelspec": {
   "display_name": "work",
   "language": "python",
   "name": "python3"
  },
  "language_info": {
   "codemirror_mode": {
    "name": "ipython",
    "version": 3
   },
   "file_extension": ".py",
   "mimetype": "text/x-python",
   "name": "python",
   "nbconvert_exporter": "python",
   "pygments_lexer": "ipython3",
   "version": "3.9.16"
  },
  "orig_nbformat": 4
 },
 "nbformat": 4,
 "nbformat_minor": 2
}
