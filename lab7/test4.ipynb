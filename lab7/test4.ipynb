{
 "cells": [
  {
   "cell_type": "code",
   "execution_count": 5,
   "metadata": {},
   "outputs": [],
   "source": [
    "import random\n",
    "random_num = random.randint(0,9)\n",
    "num = int(input(\"\"))\n",
    "while random_num != num:\n",
    "    if num > random_num:\n",
    "        print(\"ตัวเลขที่คุณทายมีค่ามากไป\")\n",
    "        num = int(input(\"\"))\n",
    "    elif num < random_num:\n",
    "        print(\"ตัวเลขที่คุณทายมีค่าน้อยไป\")\n",
    "        num = int(input(\"\"))\n",
    "    else :\n",
    "        print(f\"คุณทายถูกต้อง คำตอบคือ {random_num}\")\n",
    "        break"
   ]
  }
 ],
 "metadata": {
  "kernelspec": {
   "display_name": "work",
   "language": "python",
   "name": "python3"
  },
  "language_info": {
   "codemirror_mode": {
    "name": "ipython",
    "version": 3
   },
   "file_extension": ".py",
   "mimetype": "text/x-python",
   "name": "python",
   "nbconvert_exporter": "python",
   "pygments_lexer": "ipython3",
   "version": "3.9.16"
  },
  "orig_nbformat": 4
 },
 "nbformat": 4,
 "nbformat_minor": 2
}
