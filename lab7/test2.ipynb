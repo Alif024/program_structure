{
 "cells": [
  {
   "cell_type": "code",
   "execution_count": 5,
   "metadata": {},
   "outputs": [
    {
     "name": "stdout",
     "output_type": "stream",
     "text": [
      "                                                                         \t1\n",
      "                                                                          \n",
      "                                                                        \t1\t1\n",
      "                                                                         \n",
      "                                                                       \t1\t2\t1\n",
      "                                                                        \n"
     ]
    }
   ],
   "source": [
    "def nCr(n, r):\n",
    "    return (fact(n) / (fact(r) * fact(n - r)))\n",
    " \n",
    "def fact(n):\n",
    "    if n == 0:\n",
    "        return 1\n",
    "    res = 1\n",
    "    for i in range(2, n+1):\n",
    "        res = res * i \n",
    "    return res\n",
    "\n",
    "text = \"\"\n",
    "text_list = []\n",
    "#total_list = []\n",
    "count = int(input(\"\"))\n",
    "for line in range(1, count+1):\n",
    "    list_line = []\n",
    "    for i in range(line):\n",
    "        list_line.append(int(nCr(line-1, i)))\n",
    "        text += \"\\t\" + str(int(nCr(line-1, i)))\n",
    "    #total_list.append(list_line)\n",
    "    #text = f\"{np.array(list_line)}\"\n",
    "    #print(len(list_line), text.center(150))\n",
    "    text += '\\n'\n",
    "    print(text.center(150))\n",
    "    text = \"\"\n",
    "#print(total_list)"
   ]
  },
  {
   "cell_type": "code",
   "execution_count": 53,
   "metadata": {},
   "outputs": [
    {
     "name": "stdout",
     "output_type": "stream",
     "text": [
      "1\t2\t1\t\n"
     ]
    }
   ],
   "source": [
    "num_line = int(input(\"\"))\n",
    "text_font = ''\n",
    "text_mid = ''\n",
    "text_behind = ''\n",
    "for i in range(num_line):\n",
    "    if 2**i < 2**(num_line-1):\n",
    "        text_font += str(2**i) + '\\t'\n",
    "        text_behind += '\\t' + str(2**i) \n",
    "    elif 2**i < 2**(num_line):\n",
    "        text_mid = str(2**i) + '\\t'\n",
    "text_behind = text_behind[::-1] \n",
    "all_text = text_font + text_mid + text_behind\n",
    "print(all_text)"
   ]
  },
  {
   "cell_type": "code",
   "execution_count": 8,
   "metadata": {},
   "outputs": [
    {
     "name": "stdout",
     "output_type": "stream",
     "text": [
      "0\n",
      "1\n",
      "2\n",
      "3\n"
     ]
    }
   ],
   "source": [
    "num_line = int(input(\"\"))\n",
    "for i in range(num_line):\n",
    "    print(i)"
   ]
  },
  {
   "cell_type": "code",
   "execution_count": 63,
   "metadata": {},
   "outputs": [
    {
     "name": "stdout",
     "output_type": "stream",
     "text": [
      "                                                                        1\t2\t1                                                                         \n",
      "                                                                      1\t2\t4\t2\t1                                                                       \n"
     ]
    }
   ],
   "source": [
    "text = \"1\\t2\\t1\"\n",
    "text2 = \"1\\t2\\t4\\t2\\t1\"\n",
    "print(text.center(150))\n",
    "print(text2.center(150))"
   ]
  },
  {
   "cell_type": "code",
   "execution_count": 67,
   "metadata": {},
   "outputs": [
    {
     "name": "stdout",
     "output_type": "stream",
     "text": [
      "1        \n",
      "1      2        1        \n",
      "1      2      4        2        1        \n",
      "1      2      4      8        4        2        1        \n",
      "1      2      4      8      16        8        4        2        1        \n"
     ]
    }
   ],
   "source": [
    "line = int(input(\"\"))\n",
    "for num_line in range(1, line+1):\n",
    "    text_font = ''\n",
    "    text_mid = ''\n",
    "    text_behind = ''\n",
    "    for i in range(num_line):\n",
    "        if 2**i < 2**(num_line-1):\n",
    "            text_font += str(2**i) + '      '\n",
    "            text_behind += '        ' + str(2**i) \n",
    "        elif 2**i < 2**(num_line):\n",
    "            text_mid = str(2**i) + '        '\n",
    "    text_behind = text_behind[::-1] \n",
    "    all_text = text_font + text_mid + text_behind\n",
    "    print(all_text)\n",
    "    "
   ]
  }
 ],
 "metadata": {
  "kernelspec": {
   "display_name": "work",
   "language": "python",
   "name": "python3"
  },
  "language_info": {
   "codemirror_mode": {
    "name": "ipython",
    "version": 3
   },
   "file_extension": ".py",
   "mimetype": "text/x-python",
   "name": "python",
   "nbconvert_exporter": "python",
   "pygments_lexer": "ipython3",
   "version": "3.9.16"
  },
  "orig_nbformat": 4
 },
 "nbformat": 4,
 "nbformat_minor": 2
}
