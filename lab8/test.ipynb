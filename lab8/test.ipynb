{
 "cells": [
  {
   "cell_type": "code",
   "execution_count": 2,
   "metadata": {},
   "outputs": [
    {
     "name": "stdout",
     "output_type": "stream",
     "text": [
      "5\n",
      "5\n"
     ]
    }
   ],
   "source": [
    "print(len([550,1350,75,820.5,200]))\n",
    "fruit=[\"apple\",\"orange\",\"kiwi\",\"grape\",\"banana\"]\n",
    "print(len(fruit))"
   ]
  },
  {
   "cell_type": "code",
   "execution_count": 5,
   "metadata": {},
   "outputs": [
    {
     "name": "stdout",
     "output_type": "stream",
     "text": [
      "{'a'}\n"
     ]
    }
   ],
   "source": [
    "test = ['a', 'a']\n",
    "print(set(test))"
   ]
  },
  {
   "cell_type": "code",
   "execution_count": 6,
   "metadata": {},
   "outputs": [
    {
     "name": "stdout",
     "output_type": "stream",
     "text": [
      "['apple', 'blackcurrant', 'watermalon', 'cherry']\n"
     ]
    }
   ],
   "source": [
    "thislist = ['apple', 'banana', 'cherry']\n",
    "thislist[1:2] = ['blackcurrant', 'watermalon']\n",
    "print(thislist)"
   ]
  },
  {
   "cell_type": "code",
   "execution_count": 9,
   "metadata": {},
   "outputs": [
    {
     "name": "stdout",
     "output_type": "stream",
     "text": [
      "['apple', 'watermalon']\n"
     ]
    }
   ],
   "source": [
    "thislist = ['apple', 'banana', 'cherry']\n",
    "thislist[1:] = ['watermalon']\n",
    "print(thislist)"
   ]
  },
  {
   "cell_type": "code",
   "execution_count": 10,
   "metadata": {},
   "outputs": [
    {
     "name": "stdout",
     "output_type": "stream",
     "text": [
      "['apple', 'orange', 'kiwi', 'grape', 'banana']\n",
      "['apple', 'orange', 'kiwi', 'grape', 'banana', 'cherry']\n"
     ]
    }
   ],
   "source": [
    "fruit = ['apple', 'orange', 'kiwi', 'grape', 'banana']\n",
    "print(fruit)\n",
    "fruit.append('cherry')\n",
    "print(fruit)"
   ]
  },
  {
   "cell_type": "code",
   "execution_count": 15,
   "metadata": {},
   "outputs": [
    {
     "name": "stdout",
     "output_type": "stream",
     "text": [
      "['apple', 'banana', 'cherry', 'watermalon', 'melon']\n"
     ]
    }
   ],
   "source": [
    "thislist = ['apple', 'banana', 'cherry']\n",
    "thislist2 = ['watermalon', 'melon']\n",
    "thislist.extend(thislist2)\n",
    "print(thislist)"
   ]
  },
  {
   "cell_type": "code",
   "execution_count": 22,
   "metadata": {},
   "outputs": [
    {
     "name": "stdout",
     "output_type": "stream",
     "text": [
      "[9, 2, 3, 7, 5, 9, 6, 4]\n"
     ]
    }
   ],
   "source": [
    "nums = [1,2,3,7,5,9,6,4]\n",
    "rank_nums = []\n",
    "num = nums[0]\n",
    "for i in nums:\n",
    "    if num < i:\n",
    "        rank_nums.insert(0,i)\n",
    "        num = i\n",
    "\n",
    "print(rank_nums)"
   ]
  },
  {
   "cell_type": "code",
   "execution_count": 23,
   "metadata": {},
   "outputs": [
    {
     "name": "stdout",
     "output_type": "stream",
     "text": [
      "[1, 2, 3, 4, 5, 6, 7, 9]\n"
     ]
    }
   ],
   "source": [
    "nums = [1,2,3,7,5,9,6,4]\n",
    "nums.sort()\n",
    "print(nums)"
   ]
  },
  {
   "cell_type": "code",
   "execution_count": 1,
   "metadata": {},
   "outputs": [
    {
     "name": "stdout",
     "output_type": "stream",
     "text": [
      "แสดงตัวแปรลิส nums : [1, 6, 8]\n",
      "ค่าเฉลี่ยของสมาชิกในลิสต์ nums : 5.00\n",
      "ค่าที่มากที่สุดคือ 8 และค่าที่น้อยที่สุดคือ 1\n",
      "ค่ามากที่สุดอันดับที่ 2 คือ 6 และค่าน้อยที่สุดอันดับที่ 2 คือ 6\n",
      "เลขคี่ในลิสต์นี้คือ [1]\n"
     ]
    }
   ],
   "source": [
    "nums = []\n",
    "count = int(input(\"Enter number of times : \"))\n",
    "for i in range(count):\n",
    "    num = int(input(f\"Enter number {i+1} : \"))\n",
    "    nums.append(num)\n",
    "sum = 0\n",
    "for i in nums:\n",
    "    sum += i\n",
    "print(f\"แสดงตัวแปรลิส nums : {nums}\")\n",
    "print(f\"ค่าเฉลี่ยของสมาชิกในลิสต์ nums : {sum/len(nums):.2f}\")\n",
    "max = nums[0]\n",
    "for i in nums:\n",
    "    if i > max:\n",
    "        max = i\n",
    "min = nums[0]\n",
    "for i in nums:\n",
    "    if i < min:\n",
    "        min = i\n",
    "print(f\"ค่าที่มากที่สุดคือ {max} และค่าที่น้อยที่สุดคือ {min}\")\n",
    "'''nums_2 = nums.copy()\n",
    "nums_2.remove(max)\n",
    "nums_2.remove(min)\n",
    "max = nums_2[0]\n",
    "for i in nums_2:\n",
    "    if i > max:\n",
    "        max = i\n",
    "min = nums_2[0]\n",
    "for i in nums_2:\n",
    "    if i < min:\n",
    "        min = i\n",
    "print(f\"ค่ามากที่สุดอันดับที่ 2 คือ {max} และค่าน้อยที่สุดอันดับที่ 2 คือ {min}\")'''\n",
    "nums.sort()\n",
    "print(f\"ค่ามากที่สุดอันดับที่ 2 คือ {nums[-2]} และค่าน้อยที่สุดอันดับที่ 2 คือ {nums[1]}\")\n",
    "odd_nums = []\n",
    "for i in nums:\n",
    "    if i%2 != 0: \n",
    "        odd_nums.append(i)\n",
    "print(f\"จำนวนเลขคี่คือ {len(odd_nums)} และในลิสต์นี้คือ {odd_nums}\")"
   ]
  }
 ],
 "metadata": {
  "kernelspec": {
   "display_name": "base",
   "language": "python",
   "name": "python3"
  },
  "language_info": {
   "codemirror_mode": {
    "name": "ipython",
    "version": 3
   },
   "file_extension": ".py",
   "mimetype": "text/x-python",
   "name": "python",
   "nbconvert_exporter": "python",
   "pygments_lexer": "ipython3",
   "version": "3.11.4"
  },
  "orig_nbformat": 4
 },
 "nbformat": 4,
 "nbformat_minor": 2
}
