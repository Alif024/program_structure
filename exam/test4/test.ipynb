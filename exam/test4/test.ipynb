{
 "cells": [
  {
   "cell_type": "code",
   "execution_count": 3,
   "metadata": {},
   "outputs": [],
   "source": [
    "%load_ext blackcellmagic"
   ]
  },
  {
   "cell_type": "code",
   "execution_count": 1,
   "metadata": {},
   "outputs": [],
   "source": [
    "count_div_5 = 0\n",
    "while True:\n",
    "    num = int(input(\"Enter number >> \"))\n",
    "    if num == 0:\n",
    "        break\n",
    "    elif num % 5 == 0:\n",
    "        count_div_5 += 1"
   ]
  },
  {
   "cell_type": "code",
   "execution_count": 3,
   "metadata": {},
   "outputs": [
    {
     "name": "stdout",
     "output_type": "stream",
     "text": [
      "50.0 10.0\n"
     ]
    }
   ],
   "source": [
    "count_user = int(input(\"\"))\n",
    "sum_score = 0\n",
    "for i in range(count_user):\n",
    "    score = float(input(\"\"))\n",
    "    sum_score += score\n",
    "print(f\"{sum_score} {sum_score/count_user}\")"
   ]
  },
  {
   "cell_type": "code",
   "execution_count": 1,
   "metadata": {},
   "outputs": [
    {
     "name": "stdout",
     "output_type": "stream",
     "text": [
      "11,978,571,669,969,891,796,072,783,721,689,098,736,458,938,142,546,425,857,555,362,864,628,009,582,789,845,319,680,000,000,000,000,000\n"
     ]
    }
   ],
   "source": [
    "num = 70\n",
    "result = 1\n",
    "for i in range(0, num+1):\n",
    "    if i == 0:\n",
    "        pass\n",
    "    else:\n",
    "        result = result * i\n",
    "print(f\"{result:,}\")"
   ]
  },
  {
   "cell_type": "code",
   "execution_count": 7,
   "metadata": {},
   "outputs": [],
   "source": [
    "dic = { \"sompong\" : {\"code\":123}, \"somying\" : {\"code\" : 456}}"
   ]
  },
  {
   "cell_type": "code",
   "execution_count": 9,
   "metadata": {},
   "outputs": [
    {
     "name": "stdout",
     "output_type": "stream",
     "text": [
      "{'code': 456}\n"
     ]
    }
   ],
   "source": [
    "print(dic[\"somying\"])"
   ]
  },
  {
   "cell_type": "code",
   "execution_count": 15,
   "metadata": {},
   "outputs": [
    {
     "name": "stdout",
     "output_type": "stream",
     "text": [
      "{}\n"
     ]
    }
   ],
   "source": [
    "data = {}\n",
    "try:\n",
    "    while True:\n",
    "        id = int(input(\"Enter ID >> \"))\n",
    "        name = input(\"Enter name >> \")\n",
    "        summit = int(input(\"Enter summit >> \"))\n",
    "        if summit > 50000:\n",
    "            bonus = summit + summit*30/100\n",
    "        else:\n",
    "            bonus = summit + summit*10/100\n",
    "        if id == \"\":\n",
    "            break\n",
    "        data[id] = {\"name\": f\"{name}\", \"summit\": summit, \"bonus\": bonus}\n",
    "except:\n",
    "    pass\n",
    "    print(data)"
   ]
  },
  {
   "cell_type": "code",
   "execution_count": 14,
   "metadata": {},
   "outputs": [
    {
     "data": {
      "text/plain": [
       "{'name': 'test2', 'summit': 20000}"
      ]
     },
     "execution_count": 14,
     "metadata": {},
     "output_type": "execute_result"
    }
   ],
   "source": [
    "data[456]"
   ]
  },
  {
   "cell_type": "code",
   "execution_count": 17,
   "metadata": {},
   "outputs": [
    {
     "name": "stdout",
     "output_type": "stream",
     "text": [
      "เลือกการทำงานของโปรแกรม\n",
      "    1 : ใส่ข้อมูลพนักงาน\n",
      "    2 : แสดงชื่อพนักงานทั้งหมด\n",
      "    3 : แสดงข้อมูลของพนักงาน\n",
      "\n"
     ]
    }
   ],
   "source": [
    "print(\"\"\"เลือกการทำงานของโปรแกรม\n",
    "    1 : ใส่ข้อมูลพนักงาน\n",
    "    2 : แสดงชื่อพนักงานทั้งหมด\n",
    "    3 : แสดงข้อมูลของพนักงาน\n",
    "\"\"\")"
   ]
  }
 ],
 "metadata": {
  "kernelspec": {
   "display_name": "python",
   "language": "python",
   "name": "python3"
  },
  "language_info": {
   "codemirror_mode": {
    "name": "ipython",
    "version": 3
   },
   "file_extension": ".py",
   "mimetype": "text/x-python",
   "name": "python",
   "nbconvert_exporter": "python",
   "pygments_lexer": "ipython3",
   "version": "3.11.4"
  },
  "orig_nbformat": 4
 },
 "nbformat": 4,
 "nbformat_minor": 2
}
