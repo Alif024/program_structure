{
 "cells": [
  {
   "cell_type": "code",
   "execution_count": 1,
   "metadata": {},
   "outputs": [],
   "source": [
    "count_div_5 = 0\n",
    "while True:\n",
    "    num = int(input(\"Enter number >> \"))\n",
    "    if num == 0:\n",
    "        break\n",
    "    elif num % 5 == 0:\n",
    "        count_div_5 += 1"
   ]
  },
  {
   "cell_type": "code",
   "execution_count": 3,
   "metadata": {},
   "outputs": [
    {
     "name": "stdout",
     "output_type": "stream",
     "text": [
      "50.0 10.0\n"
     ]
    }
   ],
   "source": [
    "count_user = int(input(\"\"))\n",
    "sum_score = 0\n",
    "for i in range(count_user):\n",
    "    score = float(input(\"\"))\n",
    "    sum_score += score\n",
    "print(f\"{sum_score} {sum_score/count_user}\")"
   ]
  },
  {
   "cell_type": "code",
   "execution_count": 1,
   "metadata": {},
   "outputs": [
    {
     "name": "stdout",
     "output_type": "stream",
     "text": [
      "11,978,571,669,969,891,796,072,783,721,689,098,736,458,938,142,546,425,857,555,362,864,628,009,582,789,845,319,680,000,000,000,000,000\n"
     ]
    }
   ],
   "source": [
    "num = 70\n",
    "result = 1\n",
    "for i in range(0, num+1):\n",
    "    if i == 0:\n",
    "        pass\n",
    "    else:\n",
    "        result = result * i\n",
    "print(f\"{result:,}\")"
   ]
  }
 ],
 "metadata": {
  "kernelspec": {
   "display_name": "python",
   "language": "python",
   "name": "python3"
  },
  "language_info": {
   "codemirror_mode": {
    "name": "ipython",
    "version": 3
   },
   "file_extension": ".py",
   "mimetype": "text/x-python",
   "name": "python",
   "nbconvert_exporter": "python",
   "pygments_lexer": "ipython3",
   "version": "3.11.4"
  },
  "orig_nbformat": 4
 },
 "nbformat": 4,
 "nbformat_minor": 2
}
